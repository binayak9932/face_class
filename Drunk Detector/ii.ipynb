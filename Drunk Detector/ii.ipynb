{
 "cells": [
  {
   "cell_type": "code",
   "execution_count": 49,
   "metadata": {},
   "outputs": [
    {
     "name": "stdout",
     "output_type": "stream",
     "text": [
      "Found 3506 images belonging to 2 classes.\n",
      "Found 1001 images belonging to 2 classes.\n",
      "Found 501 images belonging to 2 classes.\n",
      "Epoch 1/15\n",
      "176/176 [==============================] - 8s 46ms/step - loss: 0.6000 - accuracy: 0.6925 - val_loss: 0.5256 - val_accuracy: 0.7493\n",
      "Epoch 2/15\n",
      "176/176 [==============================] - 8s 45ms/step - loss: 0.4843 - accuracy: 0.7673 - val_loss: 0.4629 - val_accuracy: 0.7802\n",
      "Epoch 3/15\n",
      "176/176 [==============================] - 8s 44ms/step - loss: 0.4247 - accuracy: 0.8106 - val_loss: 0.4442 - val_accuracy: 0.7902\n",
      "Epoch 4/15\n",
      "176/176 [==============================] - 8s 44ms/step - loss: 0.3581 - accuracy: 0.8388 - val_loss: 0.4227 - val_accuracy: 0.7972\n",
      "Epoch 5/15\n",
      "176/176 [==============================] - 8s 43ms/step - loss: 0.2872 - accuracy: 0.8728 - val_loss: 0.4341 - val_accuracy: 0.8102\n",
      "Epoch 6/15\n",
      "176/176 [==============================] - 8s 44ms/step - loss: 0.2426 - accuracy: 0.8967 - val_loss: 0.3911 - val_accuracy: 0.8402\n",
      "Epoch 7/15\n",
      "176/176 [==============================] - 8s 44ms/step - loss: 0.1755 - accuracy: 0.9244 - val_loss: 0.4214 - val_accuracy: 0.8402\n",
      "Epoch 8/15\n",
      "176/176 [==============================] - 8s 43ms/step - loss: 0.1206 - accuracy: 0.9524 - val_loss: 0.4222 - val_accuracy: 0.8601\n",
      "Epoch 9/15\n",
      "176/176 [==============================] - 8s 44ms/step - loss: 0.0820 - accuracy: 0.9692 - val_loss: 0.4669 - val_accuracy: 0.8781\n",
      "Epoch 10/15\n",
      "176/176 [==============================] - 11s 64ms/step - loss: 0.0897 - accuracy: 0.9678 - val_loss: 0.5015 - val_accuracy: 0.8841\n",
      "Epoch 11/15\n",
      "176/176 [==============================] - 8s 44ms/step - loss: 0.0449 - accuracy: 0.9835 - val_loss: 0.5329 - val_accuracy: 0.8761\n",
      "Epoch 12/15\n",
      "176/176 [==============================] - 8s 43ms/step - loss: 0.0676 - accuracy: 0.9780 - val_loss: 0.5891 - val_accuracy: 0.8611\n",
      "Epoch 13/15\n",
      "176/176 [==============================] - 8s 44ms/step - loss: 0.0567 - accuracy: 0.9835 - val_loss: 0.5892 - val_accuracy: 0.8791\n",
      "Epoch 14/15\n",
      "176/176 [==============================] - 8s 44ms/step - loss: 0.0376 - accuracy: 0.9869 - val_loss: 0.4996 - val_accuracy: 0.8871\n",
      "Epoch 15/15\n",
      "176/176 [==============================] - 8s 44ms/step - loss: 0.0296 - accuracy: 0.9903 - val_loss: 0.5041 - val_accuracy: 0.8951\n",
      "26/26 [==============================] - 1s 36ms/step - loss: 0.5697 - accuracy: 0.8822\n"
     ]
    }
   ],
   "source": [
    "import tensorflow as tf\n",
    "from tensorflow.keras.models import Sequential\n",
    "from tensorflow.keras.layers import Conv2D, MaxPooling2D, Flatten, Dense, Dropout\n",
    "from tensorflow.keras.preprocessing.image import ImageDataGenerator\n",
    "\n",
    "# Paths to your data directories\n",
    "train_dir = r'E:\\porj\\Dataset\\train'\n",
    "validation_dir = r'E:\\porj\\Dataset\\valid'\n",
    "test_dir = r'E:\\porj\\Dataset\\test'\n",
    "\n",
    "# Image Data Generators\n",
    "train_datagen = ImageDataGenerator(rescale=1./255)\n",
    "validation_datagen = ImageDataGenerator(rescale=1./255)\n",
    "test_datagen = ImageDataGenerator(rescale=1./255)\n",
    "\n",
    "# Data loading\n",
    "train_generator = train_datagen.flow_from_directory(\n",
    "    train_dir,\n",
    "    target_size=(150, 150),\n",
    "    batch_size=20,\n",
    "    class_mode='binary')\n",
    "\n",
    "validation_generator = validation_datagen.flow_from_directory(\n",
    "    validation_dir,\n",
    "    target_size=(150, 150),\n",
    "    batch_size=20,\n",
    "    class_mode='binary')\n",
    "\n",
    "test_generator = test_datagen.flow_from_directory(\n",
    "    test_dir,\n",
    "    target_size=(150, 150),\n",
    "    batch_size=20,\n",
    "    class_mode='binary')\n",
    "\n",
    "# CNN Model Architecture\n",
    "model = Sequential([\n",
    "    Conv2D(32, (3, 3), activation='relu', input_shape=(150, 150, 3)),\n",
    "    MaxPooling2D(2, 2),\n",
    "    Conv2D(64, (3, 3), activation='relu'),\n",
    "    MaxPooling2D(2, 2),\n",
    "    Conv2D(128, (3, 3), activation='relu'),\n",
    "    MaxPooling2D(2, 2),\n",
    "    Flatten(),\n",
    "    Dropout(0.5),\n",
    "    Dense(512, activation='relu'),\n",
    "    Dense(1, activation='sigmoid')\n",
    "])\n",
    "\n",
    "# Compile the Model\n",
    "model.compile(loss='binary_crossentropy',\n",
    "              optimizer='adam',\n",
    "              metrics=['accuracy'])\n",
    "\n",
    "# Train the Model\n",
    "history = model.fit(\n",
    "    train_generator,\n",
    "    steps_per_epoch=176,  # Adjust based on your dataset size\n",
    "    epochs=15 ,\n",
    "    validation_data=validation_generator,\n",
    "    validation_steps=51  # Adjust based on your dataset size\n",
    ")\n",
    "\n",
    "# Evaluate the Model\n",
    "model.evaluate(test_generator)\n",
    "\n",
    "# Save the Model\n",
    "model.save('drunk_or_not_model.h5')\n"
   ]
  },
  {
   "cell_type": "code",
   "execution_count": 45,
   "metadata": {},
   "outputs": [
    {
     "name": "stdout",
     "output_type": "stream",
     "text": [
      "absl-py==2.0.0\n",
      "anyio==4.2.0\n",
      "argon2-cffi==23.1.0\n",
      "argon2-cffi-bindings==21.2.0\n",
      "arrow==1.3.0\n",
      "asttokens==2.4.1\n",
      "astunparse==1.6.3\n",
      "async-lru==2.0.4\n",
      "attrs==23.1.0\n",
      "Babel==2.14.0\n",
      "beautifulsoup4==4.12.2\n",
      "bleach==6.1.0\n",
      "blinker==1.7.0\n",
      "cachetools==5.3.2\n",
      "certifi==2023.11.17\n",
      "cffi==1.16.0\n",
      "charset-normalizer==3.3.2\n",
      "click==8.1.7\n",
      "colorama==0.4.6\n",
      "comm==0.2.0\n",
      "contourpy==1.2.0\n",
      "cycler==0.12.1\n",
      "debugpy==1.8.0\n",
      "decorator==5.1.1\n",
      "defusedxml==0.7.1\n",
      "exceptiongroup==1.2.0\n",
      "executing==2.0.1\n",
      "fastjsonschema==2.19.0\n",
      "Flask==3.0.1\n",
      "flatbuffers==23.5.26\n",
      "fonttools==4.47.2\n",
      "fqdn==1.5.1\n",
      "gast==0.4.0\n",
      "google-auth==2.25.2\n",
      "google-auth-oauthlib==0.4.6\n",
      "google-pasta==0.2.0\n",
      "grpcio==1.60.0\n",
      "h5py==3.10.0\n",
      "idna==3.6\n",
      "importlib-metadata==7.0.1\n",
      "importlib-resources==6.1.1\n",
      "ipykernel==6.27.1\n",
      "ipython==8.18.1\n",
      "isoduration==20.11.0\n",
      "itsdangerous==2.1.2\n",
      "jedi==0.19.1\n",
      "Jinja2==3.1.2\n",
      "json5==0.9.14\n",
      "jsonpointer==2.4\n",
      "jsonschema==4.20.0\n",
      "jsonschema-specifications==2023.11.2\n",
      "jupyter-events==0.9.0\n",
      "jupyter-lsp==2.2.1\n",
      "jupyter_client==8.6.0\n",
      "jupyter_core==5.5.1\n",
      "jupyter_server==2.12.1\n",
      "jupyter_server_terminals==0.5.0\n",
      "jupyterlab==4.0.9\n",
      "jupyterlab_pygments==0.3.0\n",
      "jupyterlab_server==2.25.2\n",
      "keras==2.10.0\n",
      "Keras-Preprocessing==1.1.2\n",
      "kiwisolver==1.4.5\n",
      "libclang==16.0.6\n",
      "Markdown==3.5.1\n",
      "MarkupSafe==2.1.3\n",
      "matplotlib==3.8.2\n",
      "matplotlib-inline==0.1.6\n",
      "mistune==3.0.2\n",
      "nbclient==0.9.0\n",
      "nbconvert==7.13.1\n",
      "nbformat==5.9.2\n",
      "nest-asyncio==1.5.8\n",
      "notebook_shim==0.2.3\n",
      "numpy==1.26.2\n",
      "oauthlib==3.2.2\n",
      "opencv-python==4.8.1.78\n",
      "opt-einsum==3.3.0\n",
      "overrides==7.4.0\n",
      "packaging==23.2\n",
      "pandocfilters==1.5.0\n",
      "parso==0.8.3\n",
      "pillow==10.2.0\n",
      "platformdirs==4.1.0\n",
      "prometheus-client==0.19.0\n",
      "prompt-toolkit==3.0.43\n",
      "protobuf==3.19.6\n",
      "psutil==5.9.7\n",
      "pure-eval==0.2.2\n",
      "pyasn1==0.5.1\n",
      "pyasn1-modules==0.3.0\n",
      "pycparser==2.21\n",
      "Pygments==2.17.2\n",
      "pyparsing==3.1.1\n",
      "python-dateutil==2.8.2\n",
      "python-json-logger==2.0.7\n",
      "pywin32==306\n",
      "pywinpty==2.0.12\n",
      "PyYAML==6.0.1\n",
      "pyzmq==25.1.2\n",
      "referencing==0.32.0\n",
      "requests==2.31.0\n",
      "requests-oauthlib==1.3.1\n",
      "rfc3339-validator==0.1.4\n",
      "rfc3986-validator==0.1.1\n",
      "rpds-py==0.15.2\n",
      "rsa==4.9\n",
      "scipy==1.12.0\n",
      "Send2Trash==1.8.2\n",
      "six==1.16.0\n",
      "sniffio==1.3.0\n",
      "soupsieve==2.5\n",
      "stack-data==0.6.3\n",
      "tensorboard==2.10.1\n",
      "tensorboard-data-server==0.6.1\n",
      "tensorboard-plugin-wit==1.8.1\n",
      "tensorflow==2.10.1\n",
      "tensorflow-estimator==2.10.0\n",
      "tensorflow-io-gcs-filesystem==0.31.0\n",
      "termcolor==2.4.0\n",
      "terminado==0.18.0\n",
      "tinycss2==1.2.1\n",
      "tomli==2.0.1\n",
      "tornado==6.4\n",
      "traitlets==5.14.0\n",
      "types-python-dateutil==2.8.19.14\n",
      "typing_extensions==4.9.0\n",
      "uri-template==1.3.0\n",
      "urllib3==2.1.0\n",
      "wcwidth==0.2.12\n",
      "webcolors==1.13\n",
      "webencodings==0.5.1\n",
      "websocket-client==1.7.0\n",
      "Werkzeug==3.0.1\n",
      "wrapt==1.16.0\n",
      "zipp==3.17.0\n"
     ]
    }
   ],
   "source": [
    "!pip3 freeze "
   ]
  },
  {
   "cell_type": "code",
   "execution_count": 43,
   "metadata": {},
   "outputs": [
    {
     "name": "stdout",
     "output_type": "stream",
     "text": [
      "26/26 [==============================] - 1s 38ms/step - loss: 0.5441 - accuracy: 0.8543\n",
      "Test Accuracy: 85.43%\n"
     ]
    }
   ],
   "source": [
    "# Evaluate the model on the test set\n",
    "test_loss, test_accuracy = model.evaluate(test_generator)\n",
    "print(f\"Test Accuracy: {test_accuracy*100:.2f}%\")\n"
   ]
  },
  {
   "cell_type": "code",
   "execution_count": 51,
   "metadata": {},
   "outputs": [
    {
     "name": "stdout",
     "output_type": "stream",
     "text": [
      " * Serving Flask app '__main__'\n",
      " * Debug mode: on\n"
     ]
    },
    {
     "name": "stderr",
     "output_type": "stream",
     "text": [
      "WARNING: This is a development server. Do not use it in a production deployment. Use a production WSGI server instead.\n",
      " * Running on http://127.0.0.1:5000\n",
      "Press CTRL+C to quit\n"
     ]
    },
    {
     "name": "stdout",
     "output_type": "stream",
     "text": [
      "1/1 [==============================] - 0s 37ms/step\n"
     ]
    },
    {
     "name": "stderr",
     "output_type": "stream",
     "text": [
      "127.0.0.1 - - [31/Jan/2024 16:55:49] \"POST /predict HTTP/1.1\" 200 -\n"
     ]
    },
    {
     "name": "stdout",
     "output_type": "stream",
     "text": [
      "1/1 [==============================] - 0s 13ms/step\n"
     ]
    },
    {
     "name": "stderr",
     "output_type": "stream",
     "text": [
      "127.0.0.1 - - [31/Jan/2024 16:55:52] \"POST /predict HTTP/1.1\" 200 -\n"
     ]
    },
    {
     "name": "stdout",
     "output_type": "stream",
     "text": [
      "1/1 [==============================] - 0s 12ms/step\n"
     ]
    },
    {
     "name": "stderr",
     "output_type": "stream",
     "text": [
      "127.0.0.1 - - [31/Jan/2024 16:55:55] \"POST /predict HTTP/1.1\" 200 -\n"
     ]
    },
    {
     "name": "stdout",
     "output_type": "stream",
     "text": [
      "1/1 [==============================] - 0s 13ms/step\n"
     ]
    },
    {
     "name": "stderr",
     "output_type": "stream",
     "text": [
      "127.0.0.1 - - [31/Jan/2024 16:55:59] \"POST /predict HTTP/1.1\" 200 -\n"
     ]
    }
   ],
   "source": [
    "from flask import Flask, request, jsonify\n",
    "from tensorflow.keras.models import load_model\n",
    "from PIL import Image\n",
    "from io import BytesIO\n",
    "import numpy as np\n",
    "\n",
    "app = Flask(__name__)\n",
    "model = load_model('drunk_or_not_model.h5')\n",
    "\n",
    "\n",
    "@app.route('/predict', methods=['POST'])\n",
    "def predict():\n",
    "    if 'image' not in request.files:\n",
    "        return jsonify({'error': 'No image provided'}), 400\n",
    "\n",
    "    file = request.files['image']\n",
    "    img_bytes = BytesIO(file.read())\n",
    "    img = Image.open(img_bytes)\n",
    "    img = img.resize((150, 150))  # Resize to the size your model expects\n",
    "    img = img.convert('RGB')      # If your model expects color images\n",
    "\n",
    "    img_array = np.array(img) / 255.0  # Normalize the image\n",
    "    img_array = img_array.reshape((1, 150, 150, 3))  # Reshape for the model\n",
    "\n",
    "    prediction = model.predict(img_array)\n",
    "    result = 'sober' if prediction[0][0] > 0.5 else 'drunk'\n",
    "\n",
    "    return jsonify({'prediction': result})\n",
    "\n",
    "\n",
    "\n",
    "if __name__ == '__main__':\n",
    "   app.run( debug=True,use_reloader=False)\n",
    "\n",
    "\n"
   ]
  }
 ],
 "metadata": {
  "kernelspec": {
   "display_name": "tf",
   "language": "python",
   "name": "python3"
  },
  "language_info": {
   "codemirror_mode": {
    "name": "ipython",
    "version": 3
   },
   "file_extension": ".py",
   "mimetype": "text/x-python",
   "name": "python",
   "nbconvert_exporter": "python",
   "pygments_lexer": "ipython3",
   "version": "3.9.18"
  }
 },
 "nbformat": 4,
 "nbformat_minor": 2
}
